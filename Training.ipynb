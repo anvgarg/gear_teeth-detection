{
 "cells": [
  {
   "cell_type": "code",
   "execution_count": 1,
   "metadata": {},
   "outputs": [
    {
     "name": "stderr",
     "output_type": "stream",
     "text": [
      "/home/anvesh/anaconda3/lib/python3.6/site-packages/h5py/__init__.py:36: FutureWarning: Conversion of the second argument of issubdtype from `float` to `np.floating` is deprecated. In future, it will be treated as `np.float64 == np.dtype(float).type`.\n",
      "  from ._conv import register_converters as _register_converters\n",
      "Using TensorFlow backend.\n",
      "/home/anvesh/anaconda3/lib/python3.6/site-packages/sklearn/cross_validation.py:41: DeprecationWarning: This module was deprecated in version 0.18 in favor of the model_selection module into which all the refactored classes and functions are moved. Also note that the interface of the new CV iterators are different from that of this module. This module will be removed in 0.20.\n",
      "  \"This module will be removed in 0.20.\", DeprecationWarning)\n"
     ]
    }
   ],
   "source": [
    "import keras\n",
    "from keras.preprocessing import image\n",
    "from keras.datasets import cifar10\n",
    "from keras.models import Model, Sequential\n",
    "from keras.layers import Dense, Dropout, Flatten, Input, AveragePooling2D, merge, Activation\n",
    "from keras.layers import Conv2D, MaxPooling2D, BatchNormalization\n",
    "from keras.layers import Concatenate\n",
    "from keras.optimizers import Adam,SGD\n",
    "from keras.preprocessing.image import ImageDataGenerator\n",
    "from keras.applications.imagenet_utils import preprocess_input\n",
    "from keras.utils import np_utils\n",
    "from sklearn.cross_validation import train_test_split\n",
    "from keras.callbacks import ModelCheckpoint\n",
    "from sklearn.utils import shuffle\n",
    "import numpy as np"
   ]
  },
  {
   "cell_type": "code",
   "execution_count": 2,
   "metadata": {},
   "outputs": [],
   "source": [
    "import tensorflow as tf\n",
    "from keras import backend as k"
   ]
  },
  {
   "cell_type": "code",
   "execution_count": 3,
   "metadata": {},
   "outputs": [],
   "source": [
    "import pandas as pd\n",
    "from tqdm import tqdm"
   ]
  },
  {
   "cell_type": "code",
   "execution_count": 4,
   "metadata": {},
   "outputs": [],
   "source": [
    "df = pd.read_csv(\"labels.csv\",index_col=False)"
   ]
  },
  {
   "cell_type": "code",
   "execution_count": 5,
   "metadata": {},
   "outputs": [],
   "source": [
    "df = df.drop(\"Unnamed: 0\",axis=1)"
   ]
  },
  {
   "cell_type": "code",
   "execution_count": 6,
   "metadata": {},
   "outputs": [],
   "source": [
    "img_list = df['image_path']"
   ]
  },
  {
   "cell_type": "code",
   "execution_count": 7,
   "metadata": {},
   "outputs": [
    {
     "name": "stderr",
     "output_type": "stream",
     "text": [
      "100%|██████████| 256/256 [00:45<00:00,  2.58it/s]\n"
     ]
    }
   ],
   "source": [
    "img_data = []\n",
    "for img in tqdm(img_list):\n",
    "    temp = image.load_img(img,target_size=(224,224))\n",
    "    x = image.img_to_array(temp)\n",
    "    x = np.expand_dims(x, axis=0)\n",
    "    x = preprocess_input(x)\n",
    "    x = x/255\n",
    "    img_data.append(x)\n",
    "\n",
    "\n",
    "img_data = np.array(img_data)\n",
    "\n",
    "img_data=np.rollaxis(img_data,1,0)\n",
    "print (img_data.shape)\n",
    "\n",
    "img_data = img_data[0]\n",
    "\n",
    "img_data.shape"
   ]
  },
  {
   "cell_type": "code",
   "execution_count": 12,
   "metadata": {},
   "outputs": [],
   "source": [
    "num_classes = 9\n",
    "num_of_samples = img_data.shape[0]"
   ]
  },
  {
   "cell_type": "code",
   "execution_count": 13,
   "metadata": {},
   "outputs": [],
   "source": [
    "labels = np.ones((num_of_samples,),dtype='int64')"
   ]
  },
  {
   "cell_type": "code",
   "execution_count": 14,
   "metadata": {},
   "outputs": [],
   "source": [
    "labels = df['number_of_teeth']"
   ]
  },
  {
   "cell_type": "code",
   "execution_count": 15,
   "metadata": {},
   "outputs": [],
   "source": [
    "Y = np_utils.to_categorical(labels, num_classes)"
   ]
  },
  {
   "cell_type": "code",
   "execution_count": 17,
   "metadata": {},
   "outputs": [],
   "source": [
    "x,y = shuffle(img_data,Y, random_state=2)"
   ]
  },
  {
   "cell_type": "code",
   "execution_count": 18,
   "metadata": {},
   "outputs": [],
   "source": [
    "X_train, X_test, y_train, y_test = train_test_split(x, y, test_size=0.2, random_state=2)"
   ]
  },
  {
   "cell_type": "code",
   "execution_count": 19,
   "metadata": {},
   "outputs": [],
   "source": [
    "checkpoint = ModelCheckpoint('model2.h5', monitor='val_acc', verbose=1, save_best_only=True, mode='max')"
   ]
  },
  {
   "cell_type": "code",
   "execution_count": 20,
   "metadata": {},
   "outputs": [],
   "source": [
    "callbacks_list = [checkpoint]"
   ]
  },
  {
   "cell_type": "code",
   "execution_count": 21,
   "metadata": {},
   "outputs": [
    {
     "name": "stderr",
     "output_type": "stream",
     "text": [
      "/home/anvesh/anaconda3/lib/python3.6/site-packages/ipykernel_launcher.py:3: UserWarning: Update your `Conv2D` call to the Keras 2 API: `Conv2D(16, (3, 3), activation=\"relu\", input_shape=(224, 224,...)`\n",
      "  This is separate from the ipykernel package so we can avoid doing imports until\n",
      "/home/anvesh/anaconda3/lib/python3.6/site-packages/ipykernel_launcher.py:4: UserWarning: Update your `Conv2D` call to the Keras 2 API: `Conv2D(16, (3, 3), activation=\"relu\")`\n",
      "  after removing the cwd from sys.path.\n",
      "/home/anvesh/anaconda3/lib/python3.6/site-packages/ipykernel_launcher.py:5: UserWarning: Update your `Conv2D` call to the Keras 2 API: `Conv2D(16, (3, 3), activation=\"relu\")`\n",
      "  \"\"\"\n",
      "/home/anvesh/anaconda3/lib/python3.6/site-packages/ipykernel_launcher.py:6: UserWarning: Update your `Conv2D` call to the Keras 2 API: `Conv2D(16, (3, 3), activation=\"relu\")`\n",
      "  \n",
      "/home/anvesh/anaconda3/lib/python3.6/site-packages/ipykernel_launcher.py:9: UserWarning: Update your `Conv2D` call to the Keras 2 API: `Conv2D(32, (3, 3), activation=\"relu\")`\n",
      "  if __name__ == '__main__':\n",
      "/home/anvesh/anaconda3/lib/python3.6/site-packages/ipykernel_launcher.py:10: UserWarning: Update your `Conv2D` call to the Keras 2 API: `Conv2D(32, (3, 3), activation=\"relu\")`\n",
      "  # Remove the CWD from sys.path while we load stuff.\n",
      "/home/anvesh/anaconda3/lib/python3.6/site-packages/ipykernel_launcher.py:11: UserWarning: Update your `Conv2D` call to the Keras 2 API: `Conv2D(32, (3, 3), activation=\"relu\")`\n",
      "  # This is added back by InteractiveShellApp.init_path()\n",
      "/home/anvesh/anaconda3/lib/python3.6/site-packages/ipykernel_launcher.py:12: UserWarning: Update your `Conv2D` call to the Keras 2 API: `Conv2D(32, (3, 3), activation=\"relu\")`\n",
      "  if sys.path[0] == '':\n",
      "/home/anvesh/anaconda3/lib/python3.6/site-packages/ipykernel_launcher.py:15: UserWarning: Update your `Conv2D` call to the Keras 2 API: `Conv2D(64, (3, 3), activation=\"relu\")`\n",
      "  from ipykernel import kernelapp as app\n",
      "/home/anvesh/anaconda3/lib/python3.6/site-packages/ipykernel_launcher.py:16: UserWarning: Update your `Conv2D` call to the Keras 2 API: `Conv2D(64, (3, 3), activation=\"relu\")`\n",
      "  app.launch_new_instance()\n",
      "/home/anvesh/anaconda3/lib/python3.6/site-packages/ipykernel_launcher.py:17: UserWarning: Update your `Conv2D` call to the Keras 2 API: `Conv2D(64, (3, 3), activation=\"relu\")`\n",
      "/home/anvesh/anaconda3/lib/python3.6/site-packages/ipykernel_launcher.py:20: UserWarning: Update your `Conv2D` call to the Keras 2 API: `Conv2D(128, (3, 3), activation=\"relu\")`\n",
      "/home/anvesh/anaconda3/lib/python3.6/site-packages/ipykernel_launcher.py:21: UserWarning: Update your `Conv2D` call to the Keras 2 API: `Conv2D(128, (3, 3), activation=\"relu\")`\n",
      "/home/anvesh/anaconda3/lib/python3.6/site-packages/ipykernel_launcher.py:24: UserWarning: Update your `Conv2D` call to the Keras 2 API: `Conv2D(256, (3, 3), activation=\"relu\")`\n"
     ]
    }
   ],
   "source": [
    "custom = Sequential()\n",
    "\n",
    "custom.add(Conv2D(16, 3, 3, activation='relu', input_shape=(224,224,3)))\n",
    "custom.add(Conv2D(16, 3, 3, activation='relu'))\n",
    "custom.add(Conv2D(16, 3, 3, activation='relu'))\n",
    "custom.add(Conv2D(16, 3, 3, activation='relu'))\n",
    "custom.add(MaxPooling2D(2,2))\n",
    "custom.add(BatchNormalization())\n",
    "custom.add(Conv2D(32, 3, 3, activation='relu'))\n",
    "custom.add(Conv2D(32, 3, 3, activation='relu'))\n",
    "custom.add(Conv2D(32, 3, 3, activation='relu'))\n",
    "custom.add(Conv2D(32, 3, 3, activation='relu'))\n",
    "custom.add(MaxPooling2D(2,2))\n",
    "custom.add(BatchNormalization())\n",
    "custom.add(Conv2D(64, 3, 3, activation='relu'))\n",
    "custom.add(Conv2D(64, 3, 3, activation='relu'))\n",
    "custom.add(Conv2D(64, 3, 3, activation='relu'))\n",
    "custom.add(MaxPooling2D(2,2))\n",
    "custom.add(BatchNormalization())\n",
    "custom.add(Conv2D(128, 3, 3, activation='relu'))\n",
    "custom.add(Conv2D(128, 3, 3, activation='relu'))\n",
    "custom.add(MaxPooling2D(2,2))\n",
    "custom.add(BatchNormalization())\n",
    "custom.add(Conv2D(256, 3, 3, activation='relu'))\n",
    "custom.add(MaxPooling2D(2,2))\n",
    "custom.add(BatchNormalization())\n",
    "custom.add(Flatten())\n",
    "custom.add(Dense(128,activation='relu'))\n",
    "custom.add(Dense(num_classes))\n",
    "custom.add(Activation('softmax'))"
   ]
  },
  {
   "cell_type": "code",
   "execution_count": 22,
   "metadata": {
    "scrolled": true
   },
   "outputs": [
    {
     "name": "stdout",
     "output_type": "stream",
     "text": [
      "_________________________________________________________________\n",
      "Layer (type)                 Output Shape              Param #   \n",
      "=================================================================\n",
      "conv2d_1 (Conv2D)            (None, 222, 222, 16)      448       \n",
      "_________________________________________________________________\n",
      "conv2d_2 (Conv2D)            (None, 220, 220, 16)      2320      \n",
      "_________________________________________________________________\n",
      "conv2d_3 (Conv2D)            (None, 218, 218, 16)      2320      \n",
      "_________________________________________________________________\n",
      "conv2d_4 (Conv2D)            (None, 216, 216, 16)      2320      \n",
      "_________________________________________________________________\n",
      "max_pooling2d_1 (MaxPooling2 (None, 108, 108, 16)      0         \n",
      "_________________________________________________________________\n",
      "batch_normalization_1 (Batch (None, 108, 108, 16)      64        \n",
      "_________________________________________________________________\n",
      "conv2d_5 (Conv2D)            (None, 106, 106, 32)      4640      \n",
      "_________________________________________________________________\n",
      "conv2d_6 (Conv2D)            (None, 104, 104, 32)      9248      \n",
      "_________________________________________________________________\n",
      "conv2d_7 (Conv2D)            (None, 102, 102, 32)      9248      \n",
      "_________________________________________________________________\n",
      "conv2d_8 (Conv2D)            (None, 100, 100, 32)      9248      \n",
      "_________________________________________________________________\n",
      "max_pooling2d_2 (MaxPooling2 (None, 50, 50, 32)        0         \n",
      "_________________________________________________________________\n",
      "batch_normalization_2 (Batch (None, 50, 50, 32)        128       \n",
      "_________________________________________________________________\n",
      "conv2d_9 (Conv2D)            (None, 48, 48, 64)        18496     \n",
      "_________________________________________________________________\n",
      "conv2d_10 (Conv2D)           (None, 46, 46, 64)        36928     \n",
      "_________________________________________________________________\n",
      "conv2d_11 (Conv2D)           (None, 44, 44, 64)        36928     \n",
      "_________________________________________________________________\n",
      "max_pooling2d_3 (MaxPooling2 (None, 22, 22, 64)        0         \n",
      "_________________________________________________________________\n",
      "batch_normalization_3 (Batch (None, 22, 22, 64)        256       \n",
      "_________________________________________________________________\n",
      "conv2d_12 (Conv2D)           (None, 20, 20, 128)       73856     \n",
      "_________________________________________________________________\n",
      "conv2d_13 (Conv2D)           (None, 18, 18, 128)       147584    \n",
      "_________________________________________________________________\n",
      "max_pooling2d_4 (MaxPooling2 (None, 9, 9, 128)         0         \n",
      "_________________________________________________________________\n",
      "batch_normalization_4 (Batch (None, 9, 9, 128)         512       \n",
      "_________________________________________________________________\n",
      "conv2d_14 (Conv2D)           (None, 7, 7, 256)         295168    \n",
      "_________________________________________________________________\n",
      "max_pooling2d_5 (MaxPooling2 (None, 3, 3, 256)         0         \n",
      "_________________________________________________________________\n",
      "batch_normalization_5 (Batch (None, 3, 3, 256)         1024      \n",
      "_________________________________________________________________\n",
      "flatten_1 (Flatten)          (None, 2304)              0         \n",
      "_________________________________________________________________\n",
      "dense_1 (Dense)              (None, 128)               295040    \n",
      "_________________________________________________________________\n",
      "dense_2 (Dense)              (None, 9)                 1161      \n",
      "_________________________________________________________________\n",
      "activation_1 (Activation)    (None, 9)                 0         \n",
      "=================================================================\n",
      "Total params: 946,937\n",
      "Trainable params: 945,945\n",
      "Non-trainable params: 992\n",
      "_________________________________________________________________\n"
     ]
    }
   ],
   "source": [
    "custom.summary()"
   ]
  },
  {
   "cell_type": "code",
   "execution_count": 23,
   "metadata": {},
   "outputs": [],
   "source": [
    "shift = 0.2\n",
    "datagen = ImageDataGenerator(rotation_range=90,\n",
    "                             horizontal_flip=True,\n",
    "                             width_shift_range=shift,\n",
    "                             height_shift_range=shift,\n",
    "                             vertical_flip=True,\n",
    "                             )\n",
    "datagen.fit(X_train)\n",
    "train_gen = datagen.flow(X_train,y_train,batch_size=32)\n",
    "datagen.fit(X_test)\n",
    "val_gen = datagen.flow(X_test,y_test,batch_size=32)"
   ]
  },
  {
   "cell_type": "code",
   "execution_count": 24,
   "metadata": {},
   "outputs": [],
   "source": [
    "custom.compile(loss='categorical_crossentropy',optimizer='adam',metrics=['accuracy'])"
   ]
  },
  {
   "cell_type": "code",
   "execution_count": 25,
   "metadata": {},
   "outputs": [
    {
     "name": "stdout",
     "output_type": "stream",
     "text": [
      "Epoch 1/50\n",
      "204/204 [==============================] - 155s 759ms/step - loss: 2.0060 - acc: 0.2333 - val_loss: 1.9171 - val_acc: 0.2885\n",
      "\n",
      "Epoch 00001: val_acc improved from -inf to 0.28846, saving model to model2.h5\n",
      "Epoch 2/50\n",
      "204/204 [==============================] - 128s 625ms/step - loss: 1.7943 - acc: 0.2509 - val_loss: 1.8162 - val_acc: 0.1731\n",
      "\n",
      "Epoch 00002: val_acc did not improve from 0.28846\n",
      "Epoch 3/50\n",
      "204/204 [==============================] - 120s 589ms/step - loss: 1.7756 - acc: 0.2659 - val_loss: 2.0893 - val_acc: 0.0962\n",
      "\n",
      "Epoch 00003: val_acc did not improve from 0.28846\n",
      "Epoch 4/50\n",
      "204/204 [==============================] - 120s 589ms/step - loss: 1.7837 - acc: 0.2677 - val_loss: 3.9028 - val_acc: 0.1731\n",
      "\n",
      "Epoch 00004: val_acc did not improve from 0.28846\n",
      "Epoch 5/50\n",
      "204/204 [==============================] - 120s 590ms/step - loss: 1.7347 - acc: 0.2737 - val_loss: 12.3981 - val_acc: 0.0962\n",
      "\n",
      "Epoch 00005: val_acc did not improve from 0.28846\n",
      "Epoch 6/50\n",
      "204/204 [==============================] - 120s 590ms/step - loss: 1.6344 - acc: 0.3155 - val_loss: 14.5683 - val_acc: 0.0962\n",
      "\n",
      "Epoch 00006: val_acc did not improve from 0.28846\n",
      "Epoch 7/50\n",
      "204/204 [==============================] - 121s 592ms/step - loss: 1.4999 - acc: 0.3527 - val_loss: 8.7075 - val_acc: 0.0385\n",
      "\n",
      "Epoch 00007: val_acc did not improve from 0.28846\n",
      "Epoch 8/50\n",
      "204/204 [==============================] - 120s 591ms/step - loss: 1.3243 - acc: 0.4280 - val_loss: 2.2937 - val_acc: 0.1154\n",
      "\n",
      "Epoch 00008: val_acc did not improve from 0.28846\n",
      "Epoch 9/50\n",
      "204/204 [==============================] - 121s 593ms/step - loss: 1.1768 - acc: 0.4831 - val_loss: 12.6311 - val_acc: 0.0385\n",
      "\n",
      "Epoch 00009: val_acc did not improve from 0.28846\n",
      "Epoch 10/50\n",
      "204/204 [==============================] - 120s 591ms/step - loss: 1.0997 - acc: 0.5148 - val_loss: 3.2853 - val_acc: 0.0769\n",
      "\n",
      "Epoch 00010: val_acc did not improve from 0.28846\n",
      "Epoch 11/50\n",
      "204/204 [==============================] - 121s 591ms/step - loss: 0.9927 - acc: 0.5596 - val_loss: 12.9758 - val_acc: 0.0192\n",
      "\n",
      "Epoch 00011: val_acc did not improve from 0.28846\n",
      "Epoch 12/50\n",
      "204/204 [==============================] - 121s 591ms/step - loss: 1.0014 - acc: 0.5628 - val_loss: 14.3299 - val_acc: 0.0000e+00\n",
      "\n",
      "Epoch 00012: val_acc did not improve from 0.28846\n",
      "Epoch 13/50\n",
      "204/204 [==============================] - 120s 591ms/step - loss: 0.9037 - acc: 0.6032 - val_loss: 13.0270 - val_acc: 0.0385\n",
      "\n",
      "Epoch 00013: val_acc did not improve from 0.28846\n",
      "Epoch 14/50\n",
      "204/204 [==============================] - 121s 591ms/step - loss: 0.8022 - acc: 0.6445 - val_loss: 9.5538 - val_acc: 0.0385\n",
      "\n",
      "Epoch 00014: val_acc did not improve from 0.28846\n",
      "Epoch 15/50\n",
      "204/204 [==============================] - 120s 591ms/step - loss: 0.7969 - acc: 0.6475 - val_loss: 4.4597 - val_acc: 0.1346\n",
      "\n",
      "Epoch 00015: val_acc did not improve from 0.28846\n",
      "Epoch 16/50\n",
      "204/204 [==============================] - 121s 591ms/step - loss: 0.7839 - acc: 0.6581 - val_loss: 14.1815 - val_acc: 0.0000e+00\n",
      "\n",
      "Epoch 00016: val_acc did not improve from 0.28846\n",
      "Epoch 17/50\n",
      "204/204 [==============================] - 120s 590ms/step - loss: 0.7261 - acc: 0.6890 - val_loss: 0.8804 - val_acc: 0.5192\n",
      "\n",
      "Epoch 00017: val_acc improved from 0.28846 to 0.51923, saving model to model2.h5\n",
      "Epoch 18/50\n",
      "204/204 [==============================] - 120s 590ms/step - loss: 0.6986 - acc: 0.7063 - val_loss: 0.3881 - val_acc: 0.8462\n",
      "\n",
      "Epoch 00018: val_acc improved from 0.51923 to 0.84615, saving model to model2.h5\n",
      "Epoch 19/50\n",
      "204/204 [==============================] - 121s 595ms/step - loss: 0.6837 - acc: 0.7065 - val_loss: 14.4021 - val_acc: 0.0000e+00\n",
      "\n",
      "Epoch 00019: val_acc did not improve from 0.84615\n",
      "Epoch 20/50\n",
      "204/204 [==============================] - 120s 591ms/step - loss: 0.6513 - acc: 0.7193 - val_loss: 14.6450 - val_acc: 0.0385\n",
      "\n",
      "Epoch 00020: val_acc did not improve from 0.84615\n",
      "Epoch 21/50\n",
      "204/204 [==============================] - 120s 589ms/step - loss: 0.6380 - acc: 0.7246 - val_loss: 15.1318 - val_acc: 0.0385\n",
      "\n",
      "Epoch 00021: val_acc did not improve from 0.84615\n",
      "Epoch 22/50\n",
      "204/204 [==============================] - 122s 596ms/step - loss: 0.6692 - acc: 0.7100 - val_loss: 9.6750 - val_acc: 0.0769\n",
      "\n",
      "Epoch 00022: val_acc did not improve from 0.84615\n",
      "Epoch 23/50\n",
      "204/204 [==============================] - 120s 590ms/step - loss: 0.5842 - acc: 0.7560 - val_loss: 15.4984 - val_acc: 0.0385\n",
      "\n",
      "Epoch 00023: val_acc did not improve from 0.84615\n",
      "Epoch 24/50\n",
      "204/204 [==============================] - 120s 590ms/step - loss: 0.7262 - acc: 0.6984 - val_loss: 14.8905 - val_acc: 0.0385\n",
      "\n",
      "Epoch 00024: val_acc did not improve from 0.84615\n",
      "Epoch 25/50\n",
      "204/204 [==============================] - 120s 590ms/step - loss: 0.5920 - acc: 0.7519 - val_loss: 8.0264 - val_acc: 0.0769\n",
      "\n",
      "Epoch 00025: val_acc did not improve from 0.84615\n",
      "Epoch 26/50\n",
      "204/204 [==============================] - 120s 590ms/step - loss: 0.5351 - acc: 0.7829 - val_loss: 6.9395 - val_acc: 0.1154\n",
      "\n",
      "Epoch 00026: val_acc did not improve from 0.84615\n",
      "Epoch 27/50\n",
      "204/204 [==============================] - 120s 590ms/step - loss: 0.4818 - acc: 0.8020 - val_loss: 7.7881 - val_acc: 0.0000e+00\n",
      "\n",
      "Epoch 00027: val_acc did not improve from 0.84615\n",
      "Epoch 28/50\n",
      "204/204 [==============================] - 120s 588ms/step - loss: 0.6217 - acc: 0.7417 - val_loss: 15.4574 - val_acc: 0.0385\n",
      "\n",
      "Epoch 00028: val_acc did not improve from 0.84615\n",
      "Epoch 29/50\n",
      "204/204 [==============================] - 121s 594ms/step - loss: 0.5096 - acc: 0.7901 - val_loss: 2.4852 - val_acc: 0.1731\n",
      "\n",
      "Epoch 00029: val_acc did not improve from 0.84615\n",
      "Epoch 30/50\n",
      "204/204 [==============================] - 120s 590ms/step - loss: 0.5346 - acc: 0.7736 - val_loss: 15.4982 - val_acc: 0.0385\n",
      "\n",
      "Epoch 00030: val_acc did not improve from 0.84615\n",
      "Epoch 31/50\n",
      "204/204 [==============================] - 120s 590ms/step - loss: 0.5303 - acc: 0.7840 - val_loss: 14.5325 - val_acc: 0.0000e+00\n",
      "\n",
      "Epoch 00031: val_acc did not improve from 0.84615\n",
      "Epoch 32/50\n",
      "204/204 [==============================] - 120s 590ms/step - loss: 0.5222 - acc: 0.7835 - val_loss: 1.7106 - val_acc: 0.4423\n",
      "\n",
      "Epoch 00032: val_acc did not improve from 0.84615\n",
      "Epoch 33/50\n",
      "204/204 [==============================] - 120s 590ms/step - loss: 0.5412 - acc: 0.7817 - val_loss: 6.8092 - val_acc: 0.0577\n",
      "\n",
      "Epoch 00033: val_acc did not improve from 0.84615\n",
      "Epoch 34/50\n",
      "204/204 [==============================] - 120s 590ms/step - loss: 0.5097 - acc: 0.7961 - val_loss: 16.1181 - val_acc: 0.0000e+00\n",
      "\n",
      "Epoch 00034: val_acc did not improve from 0.84615\n",
      "Epoch 35/50\n",
      "204/204 [==============================] - 120s 588ms/step - loss: 0.5583 - acc: 0.7743 - val_loss: 13.0913 - val_acc: 0.0000e+00\n",
      "\n",
      "Epoch 00035: val_acc did not improve from 0.84615\n",
      "Epoch 36/50\n",
      "204/204 [==============================] - 120s 590ms/step - loss: 0.4298 - acc: 0.8329 - val_loss: 3.0073 - val_acc: 0.1923\n",
      "\n",
      "Epoch 00036: val_acc did not improve from 0.84615\n",
      "Epoch 37/50\n",
      "204/204 [==============================] - 120s 590ms/step - loss: 0.4901 - acc: 0.7968 - val_loss: 0.4759 - val_acc: 0.7308\n",
      "\n",
      "Epoch 00037: val_acc did not improve from 0.84615\n",
      "Epoch 38/50\n",
      "204/204 [==============================] - 120s 590ms/step - loss: 0.4540 - acc: 0.8270 - val_loss: 15.2205 - val_acc: 0.0000e+00\n",
      "\n",
      "Epoch 00038: val_acc did not improve from 0.84615\n",
      "Epoch 39/50\n",
      "204/204 [==============================] - 120s 590ms/step - loss: 0.4768 - acc: 0.8056 - val_loss: 0.8598 - val_acc: 0.5577\n",
      "\n",
      "Epoch 00039: val_acc did not improve from 0.84615\n",
      "Epoch 40/50\n",
      "204/204 [==============================] - 120s 590ms/step - loss: 0.4470 - acc: 0.8192 - val_loss: 2.0898 - val_acc: 0.2885\n",
      "\n",
      "Epoch 00040: val_acc did not improve from 0.84615\n",
      "Epoch 41/50\n",
      "204/204 [==============================] - 120s 590ms/step - loss: 0.5475 - acc: 0.7801 - val_loss: 14.8928 - val_acc: 0.0385\n",
      "\n",
      "Epoch 00041: val_acc did not improve from 0.84615\n",
      "Epoch 42/50\n",
      "204/204 [==============================] - 120s 588ms/step - loss: 0.4598 - acc: 0.8138 - val_loss: 0.2487 - val_acc: 0.9423\n",
      "\n",
      "Epoch 00042: val_acc improved from 0.84615 to 0.94231, saving model to model2.h5\n",
      "Epoch 43/50\n",
      "204/204 [==============================] - 120s 590ms/step - loss: 0.5050 - acc: 0.7990 - val_loss: 15.4989 - val_acc: 0.0385\n"
     ]
    },
    {
     "name": "stdout",
     "output_type": "stream",
     "text": [
      "\n",
      "Epoch 00043: val_acc did not improve from 0.94231\n",
      "Epoch 44/50\n",
      "204/204 [==============================] - 120s 586ms/step - loss: 0.4870 - acc: 0.8060 - val_loss: 1.1897 - val_acc: 0.2692\n",
      "\n",
      "Epoch 00044: val_acc did not improve from 0.94231\n",
      "Epoch 45/50\n",
      "204/204 [==============================] - 120s 586ms/step - loss: 0.4926 - acc: 0.8121 - val_loss: 9.4181 - val_acc: 0.0000e+00\n",
      "\n",
      "Epoch 00045: val_acc did not improve from 0.94231\n",
      "Epoch 46/50\n",
      "204/204 [==============================] - 120s 587ms/step - loss: 0.4267 - acc: 0.8298 - val_loss: 14.7428 - val_acc: 0.0000e+00\n",
      "\n",
      "Epoch 00046: val_acc did not improve from 0.94231\n",
      "Epoch 47/50\n",
      "204/204 [==============================] - 120s 587ms/step - loss: 0.4411 - acc: 0.8220 - val_loss: 14.9067 - val_acc: 0.0000e+00\n",
      "\n",
      "Epoch 00047: val_acc did not improve from 0.94231\n",
      "Epoch 48/50\n",
      "204/204 [==============================] - 120s 587ms/step - loss: 0.4284 - acc: 0.8356 - val_loss: 1.7388 - val_acc: 0.4038\n",
      "\n",
      "Epoch 00048: val_acc did not improve from 0.94231\n",
      "Epoch 49/50\n",
      "204/204 [==============================] - 119s 585ms/step - loss: 0.4487 - acc: 0.8225 - val_loss: 1.0490 - val_acc: 0.5000\n",
      "\n",
      "Epoch 00049: val_acc did not improve from 0.94231\n",
      "Epoch 50/50\n",
      "204/204 [==============================] - 120s 587ms/step - loss: 0.4447 - acc: 0.8201 - val_loss: 7.6343 - val_acc: 0.0000e+00\n",
      "\n",
      "Epoch 00050: val_acc did not improve from 0.94231\n"
     ]
    },
    {
     "data": {
      "text/plain": [
       "<keras.callbacks.History at 0x7f34143cef98>"
      ]
     },
     "execution_count": 25,
     "metadata": {},
     "output_type": "execute_result"
    }
   ],
   "source": [
    "custom.fit_generator(train_gen,\n",
    "                    epochs=50,\n",
    "                    steps_per_epoch=204,\n",
    "                    verbose=1,\n",
    "                    validation_data=(X_test, y_test),\n",
    "                    callbacks=callbacks_list)"
   ]
  },
  {
   "cell_type": "code",
   "execution_count": null,
   "metadata": {},
   "outputs": [],
   "source": [
    "custom.fit(X_train, y_train, batch_size=16, epochs=50, verbose=1, validation_data=(X_test, y_test),callbacks=callbacks_list)"
   ]
  },
  {
   "cell_type": "code",
   "execution_count": null,
   "metadata": {},
   "outputs": [],
   "source": []
  },
  {
   "cell_type": "code",
   "execution_count": null,
   "metadata": {},
   "outputs": [],
   "source": []
  },
  {
   "cell_type": "code",
   "execution_count": null,
   "metadata": {},
   "outputs": [],
   "source": []
  },
  {
   "cell_type": "markdown",
   "metadata": {},
   "source": [
    "# Testing"
   ]
  },
  {
   "cell_type": "code",
   "execution_count": null,
   "metadata": {},
   "outputs": [],
   "source": [
    "import keras\n",
    "from keras.preprocessing import image\n",
    "from keras.datasets import cifar10\n",
    "from keras.models import Model, Sequential\n",
    "from keras.layers import Dense, Dropout, Flatten, Input, AveragePooling2D, merge, Activation\n",
    "from keras.layers import Conv2D, MaxPooling2D, BatchNormalization\n",
    "from keras.layers import Concatenate\n",
    "from keras.optimizers import Adam,SGD\n",
    "from keras.preprocessing.image import ImageDataGenerator\n",
    "from keras.applications.imagenet_utils import preprocess_input\n",
    "from keras.utils import np_utils\n",
    "from sklearn.cross_validation import train_test_split\n",
    "from keras.callbacks import ModelCheckpoint\n",
    "from sklearn.utils import shuffle\n",
    "import numpy as np"
   ]
  },
  {
   "cell_type": "code",
   "execution_count": null,
   "metadata": {},
   "outputs": [],
   "source": [
    "import tensorflow as tf\n",
    "from keras import backend as k"
   ]
  },
  {
   "cell_type": "code",
   "execution_count": 4,
   "metadata": {},
   "outputs": [],
   "source": [
    "from matplotlib import pyplot as plt"
   ]
  },
  {
   "cell_type": "code",
   "execution_count": 57,
   "metadata": {},
   "outputs": [
    {
     "name": "stderr",
     "output_type": "stream",
     "text": [
      "/home/anvesh/anaconda3/lib/python3.6/site-packages/ipykernel_launcher.py:3: UserWarning: Update your `Conv2D` call to the Keras 2 API: `Conv2D(16, (3, 3), activation=\"relu\", input_shape=(224, 224,...)`\n",
      "  This is separate from the ipykernel package so we can avoid doing imports until\n",
      "/home/anvesh/anaconda3/lib/python3.6/site-packages/ipykernel_launcher.py:4: UserWarning: Update your `Conv2D` call to the Keras 2 API: `Conv2D(16, (3, 3), activation=\"relu\")`\n",
      "  after removing the cwd from sys.path.\n",
      "/home/anvesh/anaconda3/lib/python3.6/site-packages/ipykernel_launcher.py:5: UserWarning: Update your `Conv2D` call to the Keras 2 API: `Conv2D(16, (3, 3), activation=\"relu\")`\n",
      "  \"\"\"\n",
      "/home/anvesh/anaconda3/lib/python3.6/site-packages/ipykernel_launcher.py:6: UserWarning: Update your `Conv2D` call to the Keras 2 API: `Conv2D(16, (3, 3), activation=\"relu\")`\n",
      "  \n",
      "/home/anvesh/anaconda3/lib/python3.6/site-packages/ipykernel_launcher.py:9: UserWarning: Update your `Conv2D` call to the Keras 2 API: `Conv2D(32, (3, 3), activation=\"relu\")`\n",
      "  if __name__ == '__main__':\n",
      "/home/anvesh/anaconda3/lib/python3.6/site-packages/ipykernel_launcher.py:10: UserWarning: Update your `Conv2D` call to the Keras 2 API: `Conv2D(32, (3, 3), activation=\"relu\")`\n",
      "  # Remove the CWD from sys.path while we load stuff.\n",
      "/home/anvesh/anaconda3/lib/python3.6/site-packages/ipykernel_launcher.py:11: UserWarning: Update your `Conv2D` call to the Keras 2 API: `Conv2D(32, (3, 3), activation=\"relu\")`\n",
      "  # This is added back by InteractiveShellApp.init_path()\n",
      "/home/anvesh/anaconda3/lib/python3.6/site-packages/ipykernel_launcher.py:12: UserWarning: Update your `Conv2D` call to the Keras 2 API: `Conv2D(32, (3, 3), activation=\"relu\")`\n",
      "  if sys.path[0] == '':\n",
      "/home/anvesh/anaconda3/lib/python3.6/site-packages/ipykernel_launcher.py:15: UserWarning: Update your `Conv2D` call to the Keras 2 API: `Conv2D(64, (3, 3), activation=\"relu\")`\n",
      "  from ipykernel import kernelapp as app\n",
      "/home/anvesh/anaconda3/lib/python3.6/site-packages/ipykernel_launcher.py:16: UserWarning: Update your `Conv2D` call to the Keras 2 API: `Conv2D(64, (3, 3), activation=\"relu\")`\n",
      "  app.launch_new_instance()\n",
      "/home/anvesh/anaconda3/lib/python3.6/site-packages/ipykernel_launcher.py:17: UserWarning: Update your `Conv2D` call to the Keras 2 API: `Conv2D(64, (3, 3), activation=\"relu\")`\n",
      "/home/anvesh/anaconda3/lib/python3.6/site-packages/ipykernel_launcher.py:20: UserWarning: Update your `Conv2D` call to the Keras 2 API: `Conv2D(128, (3, 3), activation=\"relu\")`\n",
      "/home/anvesh/anaconda3/lib/python3.6/site-packages/ipykernel_launcher.py:21: UserWarning: Update your `Conv2D` call to the Keras 2 API: `Conv2D(128, (3, 3), activation=\"relu\")`\n",
      "/home/anvesh/anaconda3/lib/python3.6/site-packages/ipykernel_launcher.py:24: UserWarning: Update your `Conv2D` call to the Keras 2 API: `Conv2D(256, (3, 3), activation=\"relu\")`\n"
     ]
    }
   ],
   "source": [
    "model = Sequential()\n",
    "\n",
    "model.add(Conv2D(16, 3, 3, activation='relu', input_shape=(224,224,3)))\n",
    "model.add(Conv2D(16, 3, 3, activation='relu'))\n",
    "model.add(Conv2D(16, 3, 3, activation='relu'))\n",
    "model.add(Conv2D(16, 3, 3, activation='relu'))\n",
    "model.add(MaxPooling2D(2,2))\n",
    "model.add(BatchNormalization())\n",
    "model.add(Conv2D(32, 3, 3, activation='relu'))\n",
    "model.add(Conv2D(32, 3, 3, activation='relu'))\n",
    "model.add(Conv2D(32, 3, 3, activation='relu'))\n",
    "model.add(Conv2D(32, 3, 3, activation='relu'))\n",
    "model.add(MaxPooling2D(2,2))\n",
    "model.add(BatchNormalization())\n",
    "model.add(Conv2D(64, 3, 3, activation='relu'))\n",
    "model.add(Conv2D(64, 3, 3, activation='relu'))\n",
    "model.add(Conv2D(64, 3, 3, activation='relu'))\n",
    "model.add(MaxPooling2D(2,2))\n",
    "model.add(BatchNormalization())\n",
    "model.add(Conv2D(128, 3, 3, activation='relu'))\n",
    "model.add(Conv2D(128, 3, 3, activation='relu'))\n",
    "model.add(MaxPooling2D(2,2))\n",
    "model.add(BatchNormalization())\n",
    "model.add(Conv2D(256, 3, 3, activation='relu'))\n",
    "model.add(MaxPooling2D(2,2))\n",
    "model.add(BatchNormalization())\n",
    "model.add(Flatten())\n",
    "model.add(Dense(128,activation='relu'))\n",
    "model.add(Dense(9))\n",
    "model.add(Activation('softmax'))"
   ]
  },
  {
   "cell_type": "code",
   "execution_count": 58,
   "metadata": {},
   "outputs": [],
   "source": [
    "model.load_weights('model2.h5')"
   ]
  },
  {
   "cell_type": "code",
   "execution_count": 59,
   "metadata": {},
   "outputs": [],
   "source": [
    "test_img = image.load_img(\"/home/anvesh/Downloads/IMG_20190529_202943 (2).jpg\",target_size=(224,224))"
   ]
  },
  {
   "cell_type": "code",
   "execution_count": 60,
   "metadata": {},
   "outputs": [],
   "source": [
    "x = image.img_to_array(test_img)\n",
    "x = np.expand_dims(x, axis=0)\n",
    "x = preprocess_input(x)\n",
    "x = x/255"
   ]
  },
  {
   "cell_type": "code",
   "execution_count": 61,
   "metadata": {},
   "outputs": [
    {
     "data": {
      "text/plain": [
       "1"
      ]
     },
     "execution_count": 61,
     "metadata": {},
     "output_type": "execute_result"
    }
   ],
   "source": [
    "model.predict(x).argmax()"
   ]
  },
  {
   "cell_type": "code",
   "execution_count": 56,
   "metadata": {},
   "outputs": [
    {
     "data": {
      "text/plain": [
       "<matplotlib.image.AxesImage at 0x7f6748fcc128>"
      ]
     },
     "execution_count": 56,
     "metadata": {},
     "output_type": "execute_result"
    },
    {
     "data": {
      "image/png": "[encoded data removed]",
      "text/plain": [
       "<Figure size 432x288 with 1 Axes>"
      ]
     },
     "metadata": {},
     "output_type": "display_data"
    }
   ],
   "source": [
    "plt.imshow(test_img)"
   ]
  },
  {
   "cell_type": "code",
   "execution_count": null,
   "metadata": {},
   "outputs": [],
   "source": []
  }
 ],
 "metadata": {
  "kernelspec": {
   "display_name": "Python 3",
   "language": "python",
   "name": "python3"
  },
  "language_info": {
   "codemirror_mode": {
    "name": "ipython",
    "version": 3
   },
   "file_extension": ".py",
   "mimetype": "text/x-python",
   "name": "python",
   "nbconvert_exporter": "python",
   "pygments_lexer": "ipython3",
   "version": "3.6.5"
  }
 },
 "nbformat": 4,
 "nbformat_minor": 2
}
